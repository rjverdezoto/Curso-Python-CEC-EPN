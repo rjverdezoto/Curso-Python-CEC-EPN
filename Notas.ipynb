{
 "cells": [
  {
   "cell_type": "markdown",
   "metadata": {},
   "source": [
    "# Types"
   ]
  },
  {
   "cell_type": "code",
   "execution_count": 4,
   "metadata": {},
   "outputs": [
    {
     "data": {
      "text/plain": [
       "int"
      ]
     },
     "execution_count": 4,
     "metadata": {},
     "output_type": "execute_result"
    }
   ],
   "source": [
    "type(23)"
   ]
  },
  {
   "cell_type": "code",
   "execution_count": null,
   "metadata": {},
   "outputs": [],
   "source": [
    "type(45.5)"
   ]
  },
  {
   "cell_type": "code",
   "execution_count": 5,
   "metadata": {},
   "outputs": [
    {
     "data": {
      "text/plain": [
       "str"
      ]
     },
     "execution_count": 5,
     "metadata": {},
     "output_type": "execute_result"
    }
   ],
   "source": [
    "type(\"string\")"
   ]
  },
  {
   "cell_type": "code",
   "execution_count": 8,
   "metadata": {},
   "outputs": [
    {
     "data": {
      "text/plain": [
       "str"
      ]
     },
     "execution_count": 8,
     "metadata": {},
     "output_type": "execute_result"
    }
   ],
   "source": [
    "type(\"FALSE\")"
   ]
  },
  {
   "cell_type": "markdown",
   "metadata": {},
   "source": [
    "# Boolean operators"
   ]
  },
  {
   "cell_type": "code",
   "execution_count": 1,
   "metadata": {},
   "outputs": [
    {
     "data": {
      "text/plain": [
       "False"
      ]
     },
     "execution_count": 1,
     "metadata": {},
     "output_type": "execute_result"
    }
   ],
   "source": [
    "34==2"
   ]
  },
  {
   "cell_type": "code",
   "execution_count": 2,
   "metadata": {},
   "outputs": [
    {
     "data": {
      "text/plain": [
       "True"
      ]
     },
     "execution_count": 2,
     "metadata": {},
     "output_type": "execute_result"
    }
   ],
   "source": [
    "34!=2"
   ]
  },
  {
   "cell_type": "code",
   "execution_count": 3,
   "metadata": {},
   "outputs": [
    {
     "data": {
      "text/plain": [
       "(True, False)"
      ]
     },
     "execution_count": 3,
     "metadata": {},
     "output_type": "execute_result"
    }
   ],
   "source": [
    "1<2, 2>3"
   ]
  },
  {
   "cell_type": "markdown",
   "metadata": {},
   "source": [
    "# Variables"
   ]
  },
  {
   "cell_type": "code",
   "execution_count": 9,
   "metadata": {},
   "outputs": [],
   "source": [
    "x=2"
   ]
  },
  {
   "cell_type": "code",
   "execution_count": 10,
   "metadata": {},
   "outputs": [
    {
     "data": {
      "text/plain": [
       "4"
      ]
     },
     "execution_count": 10,
     "metadata": {},
     "output_type": "execute_result"
    }
   ],
   "source": [
    "2*x"
   ]
  },
  {
   "cell_type": "code",
   "execution_count": 11,
   "metadata": {},
   "outputs": [
    {
     "data": {
      "text/plain": [
       "'CiscoCisco'"
      ]
     },
     "execution_count": 11,
     "metadata": {},
     "output_type": "execute_result"
    }
   ],
   "source": [
    "\"Cisco\"*x"
   ]
  },
  {
   "cell_type": "markdown",
   "metadata": {},
   "source": [
    "# Concatenacion"
   ]
  },
  {
   "cell_type": "code",
   "execution_count": 13,
   "metadata": {},
   "outputs": [],
   "source": [
    "str1=\"Cisco\""
   ]
  },
  {
   "cell_type": "code",
   "execution_count": 14,
   "metadata": {},
   "outputs": [],
   "source": [
    "str2=\"Networking\""
   ]
  },
  {
   "cell_type": "code",
   "execution_count": 15,
   "metadata": {},
   "outputs": [],
   "source": [
    "str3=\"Academy\""
   ]
  },
  {
   "cell_type": "code",
   "execution_count": 31,
   "metadata": {},
   "outputs": [],
   "source": [
    "space=\" \""
   ]
  },
  {
   "cell_type": "code",
   "execution_count": 32,
   "metadata": {},
   "outputs": [
    {
     "name": "stdout",
     "output_type": "stream",
     "text": [
      "Cisco Networking Academy\n"
     ]
    }
   ],
   "source": [
    "print(str1+space+str2+space+str3)"
   ]
  },
  {
   "cell_type": "code",
   "execution_count": 33,
   "metadata": {},
   "outputs": [
    {
     "name": "stdout",
     "output_type": "stream",
     "text": [
      "Cisco Networking Academy\n"
     ]
    }
   ],
   "source": [
    "#considera a la , como una variable y separa los strings\n",
    "print(str1,str2,str3)"
   ]
  },
  {
   "cell_type": "code",
   "execution_count": 34,
   "metadata": {},
   "outputs": [
    {
     "ename": "NameError",
     "evalue": "name 'X' is not defined",
     "output_type": "error",
     "traceback": [
      "\u001b[1;31m---------------------------------------------------------------------------\u001b[0m",
      "\u001b[1;31mNameError\u001b[0m                                 Traceback (most recent call last)",
      "\u001b[1;32m<ipython-input-34-8339a1b16e8c>\u001b[0m in \u001b[0;36m<module>\u001b[1;34m\u001b[0m\n\u001b[0;32m      1\u001b[0m \u001b[1;31m#concatenate does not work for diff types\u001b[0m\u001b[1;33m\u001b[0m\u001b[1;33m\u001b[0m\u001b[1;33m\u001b[0m\u001b[0m\n\u001b[1;32m----> 2\u001b[1;33m \u001b[0mprint\u001b[0m\u001b[1;33m(\u001b[0m\u001b[1;34m\"This value of X is \"\u001b[0m \u001b[1;33m+\u001b[0m \u001b[0mX\u001b[0m\u001b[1;33m)\u001b[0m\u001b[1;33m\u001b[0m\u001b[1;33m\u001b[0m\u001b[0m\n\u001b[0m",
      "\u001b[1;31mNameError\u001b[0m: name 'X' is not defined"
     ]
    }
   ],
   "source": [
    "#concatenate does not work for diff types\n",
    "print(\"This value of X is \" + X)"
   ]
  },
  {
   "cell_type": "code",
   "execution_count": 35,
   "metadata": {},
   "outputs": [
    {
     "name": "stdout",
     "output_type": "stream",
     "text": [
      "The value of X is 2\n"
     ]
    }
   ],
   "source": [
    "#transformar x a tr\n",
    "print(\"The value of X is \" + str(x))"
   ]
  },
  {
   "cell_type": "markdown",
   "metadata": {},
   "source": [
    "# Converting values"
   ]
  },
  {
   "cell_type": "code",
   "execution_count": 36,
   "metadata": {},
   "outputs": [],
   "source": [
    "#se puede convertir a str la variable\n",
    "x=str(x)"
   ]
  },
  {
   "cell_type": "code",
   "execution_count": 37,
   "metadata": {},
   "outputs": [
    {
     "data": {
      "text/plain": [
       "str"
      ]
     },
     "execution_count": 37,
     "metadata": {},
     "output_type": "execute_result"
    }
   ],
   "source": [
    "type(x)"
   ]
  },
  {
   "cell_type": "code",
   "execution_count": 38,
   "metadata": {},
   "outputs": [],
   "source": [
    "# to convert to flat use \"{:.Xf}\".format(Y) being X the number of  decimals and Y the value to be formatted\n",
    "pi=22/7"
   ]
  },
  {
   "cell_type": "code",
   "execution_count": 39,
   "metadata": {},
   "outputs": [
    {
     "name": "stdout",
     "output_type": "stream",
     "text": [
      "3.142857142857143\n"
     ]
    }
   ],
   "source": [
    "print(pi)"
   ]
  },
  {
   "cell_type": "code",
   "execution_count": 41,
   "metadata": {},
   "outputs": [
    {
     "name": "stdout",
     "output_type": "stream",
     "text": [
      "3.14\n"
     ]
    }
   ],
   "source": [
    "print(\"{:.2f}\".format(pi))"
   ]
  },
  {
   "cell_type": "markdown",
   "metadata": {},
   "source": [
    "#  Listas"
   ]
  },
  {
   "cell_type": "code",
   "execution_count": 48,
   "metadata": {},
   "outputs": [],
   "source": [
    "hostname=[\"R1\",\"R2\",\"R3\",\"S1\",\"S2\"]"
   ]
  },
  {
   "cell_type": "code",
   "execution_count": 44,
   "metadata": {},
   "outputs": [
    {
     "data": {
      "text/plain": [
       "list"
      ]
     },
     "execution_count": 44,
     "metadata": {},
     "output_type": "execute_result"
    }
   ],
   "source": [
    "type(hostname)"
   ]
  },
  {
   "cell_type": "code",
   "execution_count": 45,
   "metadata": {},
   "outputs": [
    {
     "data": {
      "text/plain": [
       "5"
      ]
     },
     "execution_count": 45,
     "metadata": {},
     "output_type": "execute_result"
    }
   ],
   "source": [
    "len(hostname)"
   ]
  },
  {
   "cell_type": "code",
   "execution_count": 46,
   "metadata": {},
   "outputs": [
    {
     "data": {
      "text/plain": [
       "['R1', 'R2', 'R3', 'S1', 'S2']"
      ]
     },
     "execution_count": 46,
     "metadata": {},
     "output_type": "execute_result"
    }
   ],
   "source": [
    "hostname"
   ]
  },
  {
   "cell_type": "code",
   "execution_count": 49,
   "metadata": {},
   "outputs": [],
   "source": [
    "hostname2=[\"r2\", 2, 2.3, \"s1\"]"
   ]
  },
  {
   "cell_type": "code",
   "execution_count": 50,
   "metadata": {},
   "outputs": [
    {
     "data": {
      "text/plain": [
       "list"
      ]
     },
     "execution_count": 50,
     "metadata": {},
     "output_type": "execute_result"
    }
   ],
   "source": [
    "type(hostname2)"
   ]
  },
  {
   "cell_type": "code",
   "execution_count": 53,
   "metadata": {},
   "outputs": [
    {
     "data": {
      "text/plain": [
       "'R1'"
      ]
     },
     "execution_count": 53,
     "metadata": {},
     "output_type": "execute_result"
    }
   ],
   "source": [
    "hostname[0]"
   ]
  },
  {
   "cell_type": "code",
   "execution_count": 54,
   "metadata": {},
   "outputs": [
    {
     "data": {
      "text/plain": [
       "'R3'"
      ]
     },
     "execution_count": 54,
     "metadata": {},
     "output_type": "execute_result"
    }
   ],
   "source": [
    "hostname[2]"
   ]
  },
  {
   "cell_type": "code",
   "execution_count": 55,
   "metadata": {},
   "outputs": [
    {
     "data": {
      "text/plain": [
       "2"
      ]
     },
     "execution_count": 55,
     "metadata": {},
     "output_type": "execute_result"
    }
   ],
   "source": [
    "hostname2[1]"
   ]
  },
  {
   "cell_type": "code",
   "execution_count": 56,
   "metadata": {},
   "outputs": [
    {
     "data": {
      "text/plain": [
       "'S2'"
      ]
     },
     "execution_count": 56,
     "metadata": {},
     "output_type": "execute_result"
    }
   ],
   "source": [
    "#nunca puede ser mayor a el largo del array\n",
    "hostname[-1]"
   ]
  },
  {
   "cell_type": "code",
   "execution_count": 57,
   "metadata": {},
   "outputs": [],
   "source": [
    "#modificar parte del array\n",
    "hostname[0]=\"RTR1\""
   ]
  },
  {
   "cell_type": "code",
   "execution_count": 58,
   "metadata": {},
   "outputs": [],
   "source": [
    "#eliminar parte del array\n",
    "del hostname[3]"
   ]
  },
  {
   "cell_type": "code",
   "execution_count": 59,
   "metadata": {},
   "outputs": [
    {
     "data": {
      "text/plain": [
       "['RTR1', 'R2', 'R3', 'S2']"
      ]
     },
     "execution_count": 59,
     "metadata": {},
     "output_type": "execute_result"
    }
   ],
   "source": [
    "hostname"
   ]
  },
  {
   "cell_type": "markdown",
   "metadata": {},
   "source": [
    "# Dictionary"
   ]
  },
  {
   "cell_type": "code",
   "execution_count": 60,
   "metadata": {},
   "outputs": [],
   "source": [
    "#Uses {} and have to link a key with a value which are separeted with :\n",
    "ipAddress = {\"R1\":\"10.1.1.1\", \"R2\":\"10.2.2.1\", \"R3\":\"10.3.3.1\"}"
   ]
  },
  {
   "cell_type": "code",
   "execution_count": 61,
   "metadata": {},
   "outputs": [
    {
     "data": {
      "text/plain": [
       "dict"
      ]
     },
     "execution_count": 61,
     "metadata": {},
     "output_type": "execute_result"
    }
   ],
   "source": [
    "type(ipAddress)"
   ]
  },
  {
   "cell_type": "code",
   "execution_count": 62,
   "metadata": {},
   "outputs": [
    {
     "data": {
      "text/plain": [
       "'10.1.1.1'"
      ]
     },
     "execution_count": 62,
     "metadata": {},
     "output_type": "execute_result"
    }
   ],
   "source": [
    "ipAddress[\"R1\"]"
   ]
  },
  {
   "cell_type": "code",
   "execution_count": 63,
   "metadata": {},
   "outputs": [],
   "source": [
    "#adding a new Key and Value\n",
    "ipAddress[\"S2\"]=\"10.1.1.10\""
   ]
  },
  {
   "cell_type": "code",
   "execution_count": 64,
   "metadata": {},
   "outputs": [
    {
     "data": {
      "text/plain": [
       "{'R1': '10.1.1.1', 'R2': '10.2.2.1', 'R3': '10.3.3.1', 'S2': '10.1.1.10'}"
      ]
     },
     "execution_count": 64,
     "metadata": {},
     "output_type": "execute_result"
    }
   ],
   "source": [
    "ipAddress"
   ]
  },
  {
   "cell_type": "code",
   "execution_count": 65,
   "metadata": {},
   "outputs": [
    {
     "data": {
      "text/plain": [
       "True"
      ]
     },
     "execution_count": 65,
     "metadata": {},
     "output_type": "execute_result"
    }
   ],
   "source": [
    "#is X value as a Key in the Dictionary?\n",
    "\"R2\" in ipAddress"
   ]
  },
  {
   "cell_type": "markdown",
   "metadata": {},
   "source": [
    "# Input"
   ]
  },
  {
   "cell_type": "code",
   "execution_count": 67,
   "metadata": {},
   "outputs": [
    {
     "name": "stdout",
     "output_type": "stream",
     "text": [
      "WHATS YOUR FIRST NAME? Pepe\n"
     ]
    }
   ],
   "source": [
    "#stops the code from running until you fill in the requested data\n",
    "firstname = input(\"WHATS YOUR FIRST NAME? \")"
   ]
  },
  {
   "cell_type": "code",
   "execution_count": 68,
   "metadata": {},
   "outputs": [
    {
     "name": "stdout",
     "output_type": "stream",
     "text": [
      "hello Pepe!\n"
     ]
    }
   ],
   "source": [
    "print(\"hello \"+firstname+\"!\")"
   ]
  },
  {
   "cell_type": "markdown",
   "metadata": {},
   "source": [
    "# If/Else"
   ]
  },
  {
   "cell_type": "code",
   "execution_count": 69,
   "metadata": {},
   "outputs": [],
   "source": [
    "#IF and ELSE NOTA: if it is a single it can be only an if without else\n",
    "if variable1 operator variable2:\n",
    "    do stuff\n",
    "else:\n",
    "    do other stuff"
   ]
  },
  {
   "cell_type": "code",
   "execution_count": null,
   "metadata": {},
   "outputs": [],
   "source": [
    "#condicional multiple\n",
    "if var op var2:\n",
    "    do\n",
    "elif var op var2:\n",
    "    do\n",
    "else:\n",
    "    do"
   ]
  },
  {
   "cell_type": "code",
   "execution_count": 3,
   "metadata": {},
   "outputs": [
    {
     "name": "stdout",
     "output_type": "stream",
     "text": [
      "What is the IPv4 ACL number? 200\n",
      "This is not a standard or estended IPv4 ACL.\n"
     ]
    }
   ],
   "source": [
    "#ex of multiple\n",
    "aclNum = int(input(\"What is the IPv4 ACL number? \"))\n",
    "if aclNum >= 1 and aclNum <=99:\n",
    "    print(\"This is a standard IPv4 ACL.\")\n",
    "elif aclNum >= 100 and aclNum <= 199:\n",
    "    print(\"This is a extended IPv4 ACL.\")\n",
    "else:\n",
    "    print(\"This is not a standard or estended IPv4 ACL.\")"
   ]
  },
  {
   "cell_type": "markdown",
   "metadata": {},
   "source": [
    "# For"
   ]
  },
  {
   "cell_type": "code",
   "execution_count": 4,
   "metadata": {},
   "outputs": [
    {
     "name": "stdout",
     "output_type": "stream",
     "text": [
      "R1\n",
      "R2\n",
      "R3\n",
      "S1\n",
      "S2\n"
     ]
    }
   ],
   "source": [
    "devices=[\"R1\",\"R2\",\"R3\",\"S1\",\"S2\"]\n",
    "#for item in var:\n",
    "#   do stuff\n",
    "for item in devices:\n",
    "    print(item)"
   ]
  },
  {
   "cell_type": "code",
   "execution_count": 5,
   "metadata": {},
   "outputs": [
    {
     "name": "stdout",
     "output_type": "stream",
     "text": [
      "R1\n",
      "R2\n",
      "R3\n"
     ]
    }
   ],
   "source": [
    "#searching a part of a string in the item\n",
    "for item in devices:\n",
    "    if \"R\" in item:\n",
    "        print(item)"
   ]
  },
  {
   "cell_type": "code",
   "execution_count": 6,
   "metadata": {},
   "outputs": [],
   "source": [
    "#appending is done like var_list.append(var_to_append)\n",
    "switches=[]\n",
    "for item in devices:\n",
    "    if \"S\" in item:\n",
    "        switches.append(item)"
   ]
  },
  {
   "cell_type": "code",
   "execution_count": 7,
   "metadata": {},
   "outputs": [
    {
     "data": {
      "text/plain": [
       "['S1', 'S2']"
      ]
     },
     "execution_count": 7,
     "metadata": {},
     "output_type": "execute_result"
    }
   ],
   "source": [
    "switches"
   ]
  },
  {
   "cell_type": "code",
   "execution_count": 13,
   "metadata": {},
   "outputs": [
    {
     "name": "stdout",
     "output_type": "stream",
     "text": [
      "0\n",
      "1\n",
      "2\n"
     ]
    }
   ],
   "source": [
    "for i in range(3):\n",
    "    print(i)"
   ]
  },
  {
   "cell_type": "code",
   "execution_count": 16,
   "metadata": {},
   "outputs": [
    {
     "name": "stdout",
     "output_type": "stream",
     "text": [
      "15\n"
     ]
    }
   ],
   "source": [
    "result=0\n",
    "n=5\n",
    "for i in range(1, n+1):\n",
    "    result+=i\n",
    "print(result)"
   ]
  },
  {
   "cell_type": "code",
   "execution_count": 18,
   "metadata": {},
   "outputs": [
    {
     "name": "stdout",
     "output_type": "stream",
     "text": [
      "10\n",
      "8\n",
      "6\n",
      "4\n",
      "2\n"
     ]
    }
   ],
   "source": [
    "#range(start, end, variation)\n",
    "for i in range(10, 0, -2):\n",
    "    print(i)"
   ]
  },
  {
   "cell_type": "markdown",
   "metadata": {},
   "source": [
    "# While"
   ]
  },
  {
   "cell_type": "code",
   "execution_count": 8,
   "metadata": {},
   "outputs": [
    {
     "name": "stdout",
     "output_type": "stream",
     "text": [
      "Enter a number to count to: 5\n",
      "1\n",
      "2\n",
      "3\n",
      "4\n",
      "5\n"
     ]
    }
   ],
   "source": [
    "x=input(\"Enter a number to count to: \")\n",
    "x=int(x)\n",
    "y=1\n",
    "#while condition to cpontinue running the loop:\n",
    "#   do stuff\n",
    "while y<=x:\n",
    "    print(y)\n",
    "    y+=1"
   ]
  },
  {
   "cell_type": "code",
   "execution_count": 10,
   "metadata": {},
   "outputs": [
    {
     "name": "stdout",
     "output_type": "stream",
     "text": [
      "Enter a number to count to: 3\n",
      "1\n",
      "2\n",
      "3\n"
     ]
    }
   ],
   "source": [
    "#break\n",
    "x=input(\"Enter a number to count to: \")\n",
    "x=int(x)\n",
    "y=1\n",
    "while True:\n",
    "    print(y)\n",
    "    y+=1\n",
    "    if y>x:\n",
    "        break"
   ]
  },
  {
   "cell_type": "code",
   "execution_count": 12,
   "metadata": {},
   "outputs": [
    {
     "name": "stdout",
     "output_type": "stream",
     "text": [
      "Enter a number to count to: 2\n",
      "1\n",
      "2\n",
      "Enter a number to count to: 3\n",
      "1\n",
      "2\n",
      "3\n",
      "Enter a number to count to: q\n"
     ]
    }
   ],
   "source": [
    "#check for user input and make a loop until user quits\n",
    "while True:\n",
    "    x=input(\"Enter a number to count to: \")\n",
    "    if x == 'q' or x ==\"quit\":\n",
    "        break\n",
    "    x=int(x)\n",
    "    y=1\n",
    "    while True:\n",
    "        print(y)\n",
    "        y+=1\n",
    "        if y>x:\n",
    "            break\n"
   ]
  },
  {
   "cell_type": "markdown",
   "metadata": {},
   "source": [
    "# Functions"
   ]
  },
  {
   "cell_type": "markdown",
   "metadata": {},
   "source": [
    "1) La funcion debe ser invocada primero \n",
    "2) No debe tener el mismo nombre de una variable\n",
    "3) Pueden utilizar parametros"
   ]
  },
  {
   "cell_type": "code",
   "execution_count": null,
   "metadata": {},
   "outputs": [],
   "source": [
    "#to make a function you define it with def functionName():\n",
    "#    What it does\n",
    "def message():\n",
    "    print(\"Enter next value\")\n",
    "print(\"We start here\")\n",
    "message():\n",
    "print(\"We end here\")"
   ]
  },
  {
   "cell_type": "code",
   "execution_count": 21,
   "metadata": {},
   "outputs": [
    {
     "name": "stdout",
     "output_type": "stream",
     "text": [
      "Hi, Greg\n"
     ]
    }
   ],
   "source": [
    "#with one parameter\n",
    "def hi(name):\n",
    "    print(\"Hi,\", name)\n",
    "hi(\"Greg\")"
   ]
  },
  {
   "cell_type": "code",
   "execution_count": 22,
   "metadata": {},
   "outputs": [
    {
     "name": "stdout",
     "output_type": "stream",
     "text": [
      "Hi, Carlos\n",
      "Hi, Greg\n"
     ]
    }
   ],
   "source": [
    "#with two parameters\n",
    "def hi(name1, name2):\n",
    "    print(\"Hi,\", name2)\n",
    "    print(\"Hi,\", name1)\n",
    "hi(\"Greg\", \"Carlos\")"
   ]
  },
  {
   "cell_type": "code",
   "execution_count": 25,
   "metadata": {},
   "outputs": [
    {
     "name": "stdout",
     "output_type": "stream",
     "text": [
      "Street: Velalcazar\n",
      "City: Quito\n",
      "Postal Code: 145445\n",
      "Your address is: Velalcazar St., Quito 145445\n"
     ]
    }
   ],
   "source": [
    "#with three parameters and input\n",
    "def address(street, city, postalCode):\n",
    "    print(\"Your address is:\", street, \"St.,\", city, postalCode)\n",
    "s = input(\"Street: \")\n",
    "c = input(\"City: \")\n",
    "pC = input(\"Postal Code: \")\n",
    "\n",
    "address(s, c, pC)"
   ]
  },
  {
   "cell_type": "code",
   "execution_count": 26,
   "metadata": {},
   "outputs": [
    {
     "name": "stdout",
     "output_type": "stream",
     "text": [
      "3\n",
      "-3\n"
     ]
    }
   ],
   "source": [
    "#first way of passing variables, using the pred. order\n",
    "def subtra(a, b):\n",
    "    print(a-b)\n",
    "\n",
    "subtra(5, 2)\n",
    "subtra(2, 5)"
   ]
  },
  {
   "cell_type": "code",
   "execution_count": 27,
   "metadata": {},
   "outputs": [
    {
     "name": "stdout",
     "output_type": "stream",
     "text": [
      "3\n",
      "3\n"
     ]
    }
   ],
   "source": [
    "#second way of passing variables, defining what is what, regardless of order\n",
    "def subtra(a, b):\n",
    "    print(a-b)\n",
    "\n",
    "subtra(a=5, b=2)\n",
    "subtra(b=2, a=5)"
   ]
  },
  {
   "cell_type": "code",
   "execution_count": 29,
   "metadata": {},
   "outputs": [
    {
     "name": "stdout",
     "output_type": "stream",
     "text": [
      "3\n",
      "-3\n"
     ]
    }
   ],
   "source": [
    "#third way of passing variables, a conbination of the first and second, but the order cant be unchenged\n",
    "def subtra(a, b):\n",
    "    print(a-b)\n",
    "\n",
    "subtra(5, b=2)\n",
    "subtra(2, 5)\n",
    "#subtra(2, a=5) will cause an error of position"
   ]
  },
  {
   "cell_type": "code",
   "execution_count": 32,
   "metadata": {},
   "outputs": [
    {
     "name": "stdout",
     "output_type": "stream",
     "text": [
      "12\n"
     ]
    }
   ],
   "source": [
    "#return gives the values\n",
    "def multiply(a, b):\n",
    "    return a*b\n",
    "print(multiply(3, 4))"
   ]
  },
  {
   "cell_type": "code",
   "execution_count": 33,
   "metadata": {},
   "outputs": [
    {
     "name": "stdout",
     "output_type": "stream",
     "text": [
      "None\n"
     ]
    }
   ],
   "source": [
    "def multiply(a, b):\n",
    "    return\n",
    "print(multiply(3, 4))"
   ]
  },
  {
   "cell_type": "code",
   "execution_count": 5,
   "metadata": {},
   "outputs": [
    {
     "name": "stdout",
     "output_type": "stream",
     "text": [
      "My wishes\n",
      "My wishes\n",
      "My wishes\n",
      "Happy BDay\n"
     ]
    }
   ],
   "source": [
    "def wish():\n",
    "    print(\"My wishes\")\n",
    "    return \"Happy BDay\"\n",
    "\n",
    "#can be stored in variables - it runs the function non the less\n",
    "w = wish()\n",
    "\n",
    "#only outputs the print in function\n",
    "wish()\n",
    "\n",
    "#return the print and return\n",
    "print(wish())"
   ]
  },
  {
   "cell_type": "code",
   "execution_count": 3,
   "metadata": {},
   "outputs": [
    {
     "name": "stdout",
     "output_type": "stream",
     "text": [
      "Hi, Adam\n",
      "Hi, John\n",
      "Hi, Lucy\n"
     ]
    }
   ],
   "source": [
    "def hiEB(myList):\n",
    "    for name in myList:\n",
    "        print(\"Hi,\", name)\n",
    "hiEB([\"Adam\", \"John\", \"Lucy\"])"
   ]
  },
  {
   "cell_type": "code",
   "execution_count": 37,
   "metadata": {},
   "outputs": [
    {
     "name": "stdout",
     "output_type": "stream",
     "text": [
      "[0, 1, 2, 3, 4]\n"
     ]
    }
   ],
   "source": [
    "def createList(n):\n",
    "    myList = []\n",
    "    for i in range(n):\n",
    "        myList.append(i)\n",
    "    return myList\n",
    "\n",
    "print(createList(5))"
   ]
  },
  {
   "cell_type": "markdown",
   "metadata": {},
   "source": [
    "# Funciones Lambda"
   ]
  },
  {
   "cell_type": "code",
   "execution_count": 6,
   "metadata": {},
   "outputs": [
    {
     "name": "stdout",
     "output_type": "stream",
     "text": [
      "7\n"
     ]
    }
   ],
   "source": [
    "#coventional way of writing a function\n",
    "def a(x, y):\n",
    "    return x + y\n",
    "\n",
    "#lambda works for simple functions that are used just a moment\n",
    "b = lambda x, y: x + y\n",
    "\n",
    "print(b(5,2))"
   ]
  },
  {
   "cell_type": "code",
   "execution_count": 7,
   "metadata": {},
   "outputs": [
    {
     "name": "stdout",
     "output_type": "stream",
     "text": [
      "aloH\n"
     ]
    }
   ],
   "source": [
    "#transponding a string\n",
    "revertir = lambda cadena: cadena[::-1]\n",
    "print(revertir(\"Hola\"))"
   ]
  },
  {
   "cell_type": "code",
   "execution_count": 9,
   "metadata": {},
   "outputs": [
    {
     "name": "stdout",
     "output_type": "stream",
     "text": [
      "True\n",
      "False\n"
     ]
    }
   ],
   "source": [
    "impar = lambda num: num%2 != 0\n",
    "print(impar(5))\n",
    "print(impar(4))"
   ]
  },
  {
   "cell_type": "code",
   "execution_count": 11,
   "metadata": {},
   "outputs": [
    {
     "name": "stdout",
     "output_type": "stream",
     "text": [
      "4\n"
     ]
    }
   ],
   "source": [
    "doblar = lambda num: num*2\n",
    "print(doblar(2))"
   ]
  },
  {
   "cell_type": "code",
   "execution_count": 14,
   "metadata": {},
   "outputs": [
    {
     "name": "stdout",
     "output_type": "stream",
     "text": [
      "['data', 'dairy', 'dog']\n"
     ]
    }
   ],
   "source": [
    "seq = ['data','salt','dairy','cat','dog']\n",
    "print(list(filter(lambda word: word[0]=='d',seq)))"
   ]
  },
  {
   "cell_type": "markdown",
   "metadata": {},
   "source": [
    "# MODULOS, PAQUETES Y EXCEPCIONES "
   ]
  },
  {
   "cell_type": "markdown",
   "metadata": {},
   "source": [
    "https://docs.python.org/3/py-modindex.html"
   ]
  },
  {
   "cell_type": "markdown",
   "metadata": {},
   "source": [
    "Modulo esta compuesto de entidades\n",
    "Toca importar al modulo con import\n",
    "Se puede importar varios modulos utilizando comas: import math, sys, ....\n",
    "1) Se puede llamar conmo math.pi a una entidad para evitar probelmas con el namespace\n",
    "2) Se puede utilizar la sintaxis import como: from math import pi. Puede ser from math import pi, sin\n",
    "3) Importar todo: from math import* (Es el mas inseguro)\n",
    "\n",
    "Se puede impoartar con alias a un modulo: import module as \"alias\" EJ import math as mate\n",
    "Funciones tambien: from module import pi as p, sin as s, ......."
   ]
  },
  {
   "cell_type": "code",
   "execution_count": 16,
   "metadata": {},
   "outputs": [
    {
     "name": "stdout",
     "output_type": "stream",
     "text": [
      "1.0\n"
     ]
    }
   ],
   "source": [
    "from math import sin, pi\n",
    "print(sin(pi/2))"
   ]
  },
  {
   "cell_type": "markdown",
   "metadata": {},
   "source": [
    "__name__ is a predifined variable created with the module, has two outputs, in modules __main__ and in the script __moduleName__\n",
    "as a convention the use of __variableName as private, but they actually are not"
   ]
  },
  {
   "cell_type": "markdown",
   "metadata": {},
   "source": [
    "Fibonacci sequence\n",
    "def fib(n):\n",
    "    a, b = 0, 1\n",
    "    while a < n:\n",
    "        print(a, end=\" \")\n",
    "        a, b = b, a+b\n",
    "    print()\n"
   ]
  },
  {
   "cell_type": "markdown",
   "metadata": {},
   "source": [
    "# Paquete"
   ]
  },
  {
   "cell_type": "markdown",
   "metadata": {},
   "source": [
    "Contenedor. Carpeta con un conjunto de modulos. en el paquete debe existir un archivo llamado __init__.py"
   ]
  },
  {
   "cell_type": "markdown",
   "metadata": {},
   "source": [
    "# Exceptions"
   ]
  },
  {
   "cell_type": "markdown",
   "metadata": {},
   "source": [
    "try:\n",
    "    do stufff\n",
    "exception ExceptionName:\n",
    "    do other stuff\n",
    "exception:\n",
    "    other other stuff \n",
    "\n",
    "the last exception have to be the general, can be omitted but have to be last if used\n",
    "Python has 63 predefined exceptions.\n",
    "Use only ne except with each name\n",
    "The order of the excepts matter"
   ]
  },
  {
   "cell_type": "code",
   "execution_count": 1,
   "metadata": {},
   "outputs": [
    {
     "name": "stdout",
     "output_type": "stream",
     "text": [
      "1\n",
      "Oh dear, something went wrong...\n",
      "3\n"
     ]
    }
   ],
   "source": [
    "try:\n",
    "    print(\"1\")\n",
    "    x = 1/0\n",
    "    print(\"2\")\n",
    "except:\n",
    "    print(\"Oh dear, something went wrong...\")\n",
    "print(\"3\")"
   ]
  },
  {
   "cell_type": "code",
   "execution_count": 3,
   "metadata": {},
   "outputs": [
    {
     "name": "stdout",
     "output_type": "stream",
     "text": [
      "Enter a number: 0\n",
      "You can´t devide by zero, sorry.\n",
      "THE END\n"
     ]
    }
   ],
   "source": [
    "#you can do specific thing for each exception that you define, or something general\n",
    "try:\n",
    "    x = int(input(\"Enter a number: \"))\n",
    "    y = 1/x\n",
    "    print(y)\n",
    "except ZeroDivisionError:\n",
    "    print(\"You can´t devide by zero, sorry.\")\n",
    "except ValueError:\n",
    "    print(\"You must enter an interger value.\")\n",
    "except:\n",
    "    print(\"Oh dear, something went wrong...\")\n",
    "print(\"THE END\")"
   ]
  },
  {
   "cell_type": "code",
   "execution_count": 6,
   "metadata": {},
   "outputs": [
    {
     "name": "stdout",
     "output_type": "stream",
     "text": [
      "Zero Division\n",
      "THE END\n"
     ]
    }
   ],
   "source": [
    "try:\n",
    "    y = 1/0\n",
    "except ZeroDivisionError:\n",
    "    print(\"Zero Division\")\n",
    "except ArithmeticError:\n",
    "    print(\"Arithmetic Error\")\n",
    "print(\"THE END\")"
   ]
  },
  {
   "cell_type": "code",
   "execution_count": 8,
   "metadata": {},
   "outputs": [
    {
     "name": "stdout",
     "output_type": "stream",
     "text": [
      "Arithmetic Error\n",
      "THE END\n"
     ]
    }
   ],
   "source": [
    "try:\n",
    "    y = 1/0\n",
    "except ArithmeticError:\n",
    "    print(\"Arithmetic Error\")\n",
    "except ZeroDivisionError:\n",
    "    print(\"Zero Division\")\n",
    "print(\"THE END\")"
   ]
  },
  {
   "cell_type": "code",
   "execution_count": 11,
   "metadata": {},
   "outputs": [
    {
     "name": "stdout",
     "output_type": "stream",
     "text": [
      "Arithmetic Error\n",
      "THE END\n"
     ]
    }
   ],
   "source": [
    "#managing exceptions within a function\n",
    "def badFun(n):\n",
    "    try:\n",
    "        return 1/n\n",
    "    except ArithmeticError:\n",
    "        print(\"Arithmetic Error\")\n",
    "    return None\n",
    "\n",
    "badFun(0)\n",
    "print(\"THE END\")"
   ]
  },
  {
   "cell_type": "code",
   "execution_count": 14,
   "metadata": {},
   "outputs": [
    {
     "name": "stdout",
     "output_type": "stream",
     "text": [
      "What happened? An exception was raised!\n",
      "THE END\n"
     ]
    }
   ],
   "source": [
    "#managing exceptions outside a function\n",
    "def badFun(n):\n",
    "    return 1/n\n",
    "try:\n",
    "    badFun(0)\n",
    "except ArithmeticError:\n",
    "    print(\"What happened? An exception was raised!\")\n",
    "\n",
    "print(\"THE END\")"
   ]
  },
  {
   "cell_type": "markdown",
   "metadata": {},
   "source": [
    "raise sirve para levantar exceptiones para probar manejos (fuera de try)\n",
    "dentro de try, expone el problema que ocurrio"
   ]
  },
  {
   "cell_type": "code",
   "execution_count": null,
   "metadata": {},
   "outputs": [],
   "source": [
    "raise ZeroDivisionError"
   ]
  },
  {
   "cell_type": "code",
   "execution_count": null,
   "metadata": {},
   "outputs": [],
   "source": [
    "assert x op y\n",
    "#if assert not met, an AssertionError is raised"
   ]
  },
  {
   "cell_type": "markdown",
   "metadata": {},
   "source": [
    "# Data management"
   ]
  },
  {
   "cell_type": "code",
   "execution_count": null,
   "metadata": {},
   "outputs": [],
   "source": [
    "#abrir archivos\n",
    "stream = open(file,mode='r',encoding=None)\n",
    "file = name\n",
    "mode = manera de abrirlo #omitible\n",
    "# r = leer, w = escribr, a = agregar(si no existe, se crea, si existe se agrega al final)\n",
    "encoding = manera de entender UTF-8 #omitible\n",
    "#cerrar archivos\n",
    "close()"
   ]
  },
  {
   "cell_type": "code",
   "execution_count": null,
   "metadata": {},
   "outputs": [],
   "source": [
    "#ejemplo text is in the same folder as script (workaround using path)\n",
    "file = open(\"devices.txt\",\"r\")\n",
    "for item in file:\n",
    "    print(item)\n",
    "file.close()\n",
    "\n",
    "#to delete spacing\n",
    "file = open(\"devices.txt\",\"r\")\n",
    "for item in file:\n",
    "    item = item.strip()\n",
    "    print(item)\n",
    "file.close()\n",
    "\n",
    "#to add to a list the items in text\n",
    "devices = []\n",
    "file = open(\"devices.txt\",\"r\")\n",
    "for item in file:\n",
    "    item = item.strip()\n",
    "    devices.append(item)\n",
    "file.close()\n",
    "print(devices)\n",
    "\n",
    "#to add new item use module .write\n",
    "file.write(variableName)"
   ]
  },
  {
   "cell_type": "markdown",
   "metadata": {},
   "source": [
    "# Modulos para Data Science"
   ]
  },
  {
   "cell_type": "markdown",
   "metadata": {},
   "source": [
    "#modulos NumPy y Pandas ... scikit learn (AI)\n"
   ]
  },
  {
   "cell_type": "markdown",
   "metadata": {},
   "source": [
    "# NumPy"
   ]
  },
  {
   "cell_type": "markdown",
   "metadata": {},
   "source": [
    "Estructuras de datos a bases de matrices y matrices multidimensionales"
   ]
  },
  {
   "cell_type": "code",
   "execution_count": null,
   "metadata": {},
   "outputs": [],
   "source": [
    "import numpy as np"
   ]
  },
  {
   "cell_type": "markdown",
   "metadata": {},
   "source": [
    "# Pandas"
   ]
  },
  {
   "cell_type": "markdown",
   "metadata": {},
   "source": [
    "Ciencia de datos y Machine Learning\n",
    "Panel Data Frameworks\n",
    "Tres caracterisitcas primordiales: datos, indices y columnas\n",
    "Datos no llemos y maneras de corregir"
   ]
  },
  {
   "cell_type": "code",
   "execution_count": null,
   "metadata": {},
   "outputs": [],
   "source": [
    "#needs pip install pandas\n",
    "import pandas as pd"
   ]
  },
  {
   "cell_type": "markdown",
   "metadata": {},
   "source": [
    "# Raspberry control"
   ]
  },
  {
   "cell_type": "markdown",
   "metadata": {},
   "source": [
    "sd memory formatter, balena etcher(image of the cotroller), "
   ]
  }
 ],
 "metadata": {
  "kernelspec": {
   "display_name": "Python 3",
   "language": "python",
   "name": "python3"
  },
  "language_info": {
   "codemirror_mode": {
    "name": "ipython",
    "version": 3
   },
   "file_extension": ".py",
   "mimetype": "text/x-python",
   "name": "python",
   "nbconvert_exporter": "python",
   "pygments_lexer": "ipython3",
   "version": "3.7.4"
  }
 },
 "nbformat": 4,
 "nbformat_minor": 2
}
